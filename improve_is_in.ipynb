{
  "cells": [
    {
      "metadata": {
        "trusted": true
      },
      "cell_type": "code",
      "source": "import pandas as pd\nimport itertools, re, pickle, time",
      "execution_count": 29,
      "outputs": []
    },
    {
      "metadata": {
        "trusted": true
      },
      "cell_type": "code",
      "source": "df = pd.DataFrame({\n    'atc': ['antiinflamatorio', 'diabetico', 'malalt renal'], \n    'pas': [['ibuprofeno', 'aspirina'], ['insulina'], ['metformina', 'teramina']]})\ndf['word_count'] = df['pas'].apply(lambda x: len(x))\n",
      "execution_count": 30,
      "outputs": []
    },
    {
      "metadata": {
        "trusted": true
      },
      "cell_type": "code",
      "source": "df",
      "execution_count": 31,
      "outputs": [
        {
          "output_type": "execute_result",
          "execution_count": 31,
          "data": {
            "text/html": "<div>\n<style scoped>\n    .dataframe tbody tr th:only-of-type {\n        vertical-align: middle;\n    }\n\n    .dataframe tbody tr th {\n        vertical-align: top;\n    }\n\n    .dataframe thead th {\n        text-align: right;\n    }\n</style>\n<table border=\"1\" class=\"dataframe\">\n  <thead>\n    <tr style=\"text-align: right;\">\n      <th></th>\n      <th>atc</th>\n      <th>pas</th>\n      <th>word_count</th>\n    </tr>\n  </thead>\n  <tbody>\n    <tr>\n      <th>0</th>\n      <td>antiinflamatorio</td>\n      <td>[ibuprofeno, aspirina]</td>\n      <td>2</td>\n    </tr>\n    <tr>\n      <th>1</th>\n      <td>diabetico</td>\n      <td>[insulina]</td>\n      <td>1</td>\n    </tr>\n    <tr>\n      <th>2</th>\n      <td>malalt renal</td>\n      <td>[metformina, teramina]</td>\n      <td>2</td>\n    </tr>\n  </tbody>\n</table>\n</div>",
            "text/plain": "                atc                     pas  word_count\n0  antiinflamatorio  [ibuprofeno, aspirina]           2\n1         diabetico              [insulina]           1\n2      malalt renal  [metformina, teramina]           2"
          },
          "metadata": {}
        }
      ]
    },
    {
      "metadata": {},
      "cell_type": "markdown",
      "source": "ATC es una columna que conté una etiqueta que afegim a un grup de medicaments\nPAS conté els principis actius de medicaments. \n\nL'objectiu és fer un script que donat un text qualsevol, em retorni les columnes ATC a les que pertany el text. Un *text* pertany a un grup només si tots els medicaments del PAS son presents. \n\nTextos de TEST amb el resultat que hauria de donar\n\n* text1 = \"li dóno aspirina\" -> ATC: []\n* text2 = \"li dono aspirina i ibuprofeno -> ATC [ 'antiinflamatorio']\n* text3 = \"es una persona diabética\" -> ATC []\n* text4 = \"pren metformina, teramina, insulina i ibuprofeno\" -> ATC ['malalt renal', 'diabetico']\n\n\n**Es presuposa que el text original ja ve una mica net... sense signes puntuacions, minúscules**\n"
    },
    {
      "metadata": {
        "trusted": true
      },
      "cell_type": "code",
      "source": "textos = [\n    \"li dóno aspirina\",\n    \"li dono aspirina i ibuprofeno\",\n    \"es una persona diabética\",\n    \"pren metformina teramina insulina i ibuprofeno\"\n]\n\n",
      "execution_count": 32,
      "outputs": []
    },
    {
      "metadata": {
        "trusted": true
      },
      "cell_type": "code",
      "source": "# PAS previ, que no cal optimitzar ja que es guarda a part, és un set amb els possibles principis actius, només per poder\n# filtrar els textos per allò que estem buscant. \npattern = re.compile('( \\(|\\)|[0-9]|p\\.|l\\n|)')\nprincipios_activos = set()\nfor row in df['pas']:\n    for item in row:\n        for i in item.split(' '):\n        #filter nums...\n          i = i.lower().strip()\n          principios_activos.add(pattern.sub('', i))\nprincipios_activos",
      "execution_count": 33,
      "outputs": [
        {
          "output_type": "execute_result",
          "execution_count": 33,
          "data": {
            "text/plain": "{'aspirina', 'ibuprofeno', 'insulina', 'metformina', 'teramina'}"
          },
          "metadata": {}
        }
      ]
    },
    {
      "metadata": {
        "trusted": true
      },
      "cell_type": "code",
      "source": "def check_coincidences(df, text):\n    pas = df['pas']\n    coincidences = set([word.split(' ')[0] for word in pas]).intersection(text)\n    return len(coincidences)",
      "execution_count": 34,
      "outputs": []
    },
    {
      "metadata": {
        "trusted": true
      },
      "cell_type": "code",
      "source": "def add_group_atc(df, pas, text):\n    #convert to list\n    start_time = time.time()\n    text = [text.lower().strip() for text in text.split(' ')]\n    \n    #clean text. Get only words into PAS\n    valid_text = pas.intersection(text)\n    #create new column that stores number of coincidences for each word\n    df['coincidences'] = df.apply(check_coincidences, args=[valid_text], axis=1)\n    \n    # els que són d'un grup son els que tenen el número de coincidencies == número de medicaments\n    intersection = df[df['coincidences'] == df['word_count']]['atc']\n    \n    # trec duplicats\n    atcs = list(intersection.unique())\n    \n    # retorno el TEXT + els grups. \n    print('total time: ', time.time() - start_time)\n    return ' '.join(text) + ' ---GRUPS:---' + ' '.join(atcs)",
      "execution_count": 35,
      "outputs": []
    },
    {
      "metadata": {
        "trusted": true
      },
      "cell_type": "code",
      "source": "#text1: ha de \nfor text in textos:\n    print(add_group_atc(df, principios_activos, text))    ",
      "execution_count": 36,
      "outputs": [
        {
          "output_type": "stream",
          "text": "total time:  0.005441904067993164\nli dóno aspirina ---GRUPS:---\ntotal time:  0.0035779476165771484\nli dono aspirina i ibuprofeno ---GRUPS:---antiinflamatorio\ntotal time:  0.003171205520629883\nes una persona diabética ---GRUPS:---\ntotal time:  0.002465963363647461\npren metformina teramina insulina i ibuprofeno ---GRUPS:---diabetico malalt renal\n",
          "name": "stdout"
        }
      ]
    },
    {
      "metadata": {
        "trusted": true
      },
      "cell_type": "markdown",
      "source": "# Carrega de les dades originals per veure el temps que triga a processar un text.\n\n* df_genrics es el df amb el llistat de medicaments i grups\n* pas: set de paraules mediques\n\nObjectiu: millorar el total time!\n"
    },
    {
      "metadata": {
        "trusted": true
      },
      "cell_type": "code",
      "source": "df_generics = pd.read_pickle('./uploads/sire_generics.pkl')",
      "execution_count": 37,
      "outputs": []
    },
    {
      "metadata": {
        "trusted": true
      },
      "cell_type": "code",
      "source": "with open('./uploads/principios_activos.pkl', 'rb') as file:\n    pas = pickle.load(file)",
      "execution_count": 38,
      "outputs": []
    },
    {
      "metadata": {
        "trusted": true
      },
      "cell_type": "code",
      "source": "print(add_group_atc(df_generics, pas, 'enalapril acetilsalicilico hola que tal warfarina dopidrogrel almodipino prindopril valsartan'))    ",
      "execution_count": 39,
      "outputs": [
        {
          "output_type": "stream",
          "text": "total time:  0.3863515853881836\nenalapril acetilsalicilico hola que tal warfarina dopidrogrel almodipino prindopril valsartan ---GRUPS:---C09AA02 C09CA03 B01AC06\n",
          "name": "stdout"
        }
      ]
    },
    {
      "metadata": {
        "trusted": true
      },
      "cell_type": "code",
      "source": "",
      "execution_count": null,
      "outputs": []
    }
  ],
  "metadata": {
    "kernelspec": {
      "name": "python36",
      "display_name": "Python 3.6",
      "language": "python"
    },
    "language_info": {
      "mimetype": "text/x-python",
      "nbconvert_exporter": "python",
      "name": "python",
      "pygments_lexer": "ipython3",
      "version": "3.6.6",
      "file_extension": ".py",
      "codemirror_mode": {
        "version": 3,
        "name": "ipython"
      }
    }
  },
  "nbformat": 4,
  "nbformat_minor": 2
}